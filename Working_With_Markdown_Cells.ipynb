{
  "nbformat": 4,
  "nbformat_minor": 0,
  "metadata": {
    "colab": {
      "name": "Working With Markdown Cells.ipynb",
      "provenance": []
    },
    "kernelspec": {
      "display_name": "Python 3",
      "language": "python",
      "name": "python3"
    }
  },
  "cells": [
    {
      "cell_type": "markdown",
      "metadata": {
        "colab_type": "text",
        "id": "Ov5cul5wUm9o"
      },
      "source": [
        "# Markdown Cells in IPython Notebooks\n",
        "\n",
        "Text can be added to IPython Notebooks, and stylized using Markdown cells.  Markdown is a popular mark*up* language system for formatting text.\n",
        "\n",
        "View the markdown source of a cell by double clicking on it, or while the cell is selected in command mode, press `Enter` to edit it. Once A cell has been editted, use `Shift-Enter` to re-render it. "
      ]
    },
    {
      "cell_type": "markdown",
      "metadata": {
        "colab_type": "text",
        "id": "P-gtuFknUm9q"
      },
      "source": [
        "## Markdown basics\n",
        "\n",
        "Make text *italic* or **bold**."
      ]
    },
    {
      "cell_type": "markdown",
      "metadata": {
        "colab_type": "text",
        "id": "_o50IkIVUm9t"
      },
      "source": [
        "Add horizontal line breaks:\n",
        "\n",
        "---"
      ]
    },
    {
      "cell_type": "markdown",
      "metadata": {
        "colab_type": "text",
        "id": "BMwHlyDAUm9v"
      },
      "source": [
        "Write a blockquote:\n",
        "\n",
        "> Beautiful is better than ugly.\n",
        "> Explicit is better than implicit.\n",
        "> Simple is better than complex.\n",
        "> Complex is better than complicated.\n",
        "> Flat is better than nested.\n",
        "> Sparse is better than dense.\n",
        "> Readability counts.\n",
        "> Special cases aren't special enough to break the rules.\n",
        "> Although practicality beats purity.\n",
        "> Errors should never pass silently.\n",
        "> Unless explicitly silenced.\n",
        "> In the face of ambiguity, refuse the temptation to guess.\n",
        "> There should be one-- and preferably only one --obvious way to do it.\n",
        "> Although that way may not be obvious at first unless you're Dutch.\n",
        "> Now is better than never.\n",
        "> Although never is often better than *right* now.\n",
        "> If the implementation is hard to explain, it's a bad idea.\n",
        "> If the implementation is easy to explain, it may be a good idea.\n",
        "> Namespaces are one honking great idea -- let's do more of those!"
      ]
    },
    {
      "cell_type": "markdown",
      "metadata": {
        "colab_type": "text",
        "id": "Kvaayk7RUm9w"
      },
      "source": [
        "And shorthand for links:\n",
        "\n",
        "[Inly's website](https://inly.llc/)"
      ]
    },
    {
      "cell_type": "markdown",
      "metadata": {
        "colab_type": "text",
        "id": "5Wg4y4KIUm9x"
      },
      "source": [
        "Add headings:\n",
        "\n",
        "# Heading 1\n",
        "\n",
        "# Heading 2\n",
        "\n",
        "## Heading 2.1\n",
        "\n",
        "## Heading 2.2\n",
        "\n",
        "### Heading 3\n",
        "\n",
        "#### Heading 4"
      ]
    },
    {
      "cell_type": "markdown",
      "metadata": {
        "colab_type": "text",
        "id": "Fzc2AQz1Um92"
      },
      "source": [
        "## Local files\n",
        "\n",
        "If you have local files in your Notebook folder, you can refer to these files in Markdown cells directly:\n",
        "\n",
        "    [subdirectory/]<filename>\n",
        "\n",
        "For example, in the images folder, we have the Python logo:\n",
        "\n",
        "<img src = \"images/python_logo.png\">\n"
      ]
    },
    {
      "cell_type": "markdown",
      "metadata": {},
      "source": [
        "This primer covers the basics of Markdown, for details about the language visit [Daring Fireball](https://daringfireball.net/projects/markdown/)."
      ]
    }
  ]
}